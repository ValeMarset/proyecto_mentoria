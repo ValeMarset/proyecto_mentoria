{
 "cells": [
  {
   "cell_type": "code",
   "execution_count": 2,
   "id": "2a7e7209-fbc2-46e9-82a7-c84e1bd18bec",
   "metadata": {},
   "outputs": [],
   "source": [
    "import json\n",
    "import pandas as pd\n",
    "\n",
    "# Ajustar para mostrar más columnas\n",
    "pd.set_option('display.max_columns', None)\n",
    "\n",
    "# Ajustar para mostrar más filas\n",
    "pd.set_option('display.max_rows', None)\n",
    "\n",
    "# Ajustar para que el contenido de las columnas no se trunque\n",
    "pd.set_option('display.max_colwidth', None)\n",
    "\n",
    "# Mostrar más ancho para una vista más clara\n",
    "pd.set_option('display.width', 1000)"
   ]
  },
  {
   "cell_type": "markdown",
   "id": "f70433d1-b4e5-4cc3-899b-71c706a134f7",
   "metadata": {},
   "source": [
    "## Tablas que No Tienen IDs\n",
    "### Product\n",
    "### Customer_address\n",
    "### Time\n",
    "### Country\n",
    "### Supplier \n",
    "### Weather\n",
    "### Currency_conversion\n",
    "### Order_details"
   ]
  },
  {
   "cell_type": "code",
   "execution_count": 3,
   "id": "8352a89e-9c5d-4e40-9963-98a9b62ef0cc",
   "metadata": {},
   "outputs": [
    {
     "data": {
      "text/html": [
       "<div>\n",
       "<style scoped>\n",
       "    .dataframe tbody tr th:only-of-type {\n",
       "        vertical-align: middle;\n",
       "    }\n",
       "\n",
       "    .dataframe tbody tr th {\n",
       "        vertical-align: top;\n",
       "    }\n",
       "\n",
       "    .dataframe thead th {\n",
       "        text-align: right;\n",
       "    }\n",
       "</style>\n",
       "<table border=\"1\" class=\"dataframe\">\n",
       "  <thead>\n",
       "    <tr style=\"text-align: right;\">\n",
       "      <th></th>\n",
       "      <th>brand_product</th>\n",
       "      <th>cantidad</th>\n",
       "      <th>customer_address</th>\n",
       "      <th>customer_id</th>\n",
       "      <th>customer_name</th>\n",
       "      <th>customer_nation</th>\n",
       "      <th>customer_phone</th>\n",
       "      <th>customer_region</th>\n",
       "      <th>descuento</th>\n",
       "      <th>fecha_entrega</th>\n",
       "      <th>fecha_envio</th>\n",
       "      <th>flag_devolución</th>\n",
       "      <th>impuesto</th>\n",
       "      <th>name_prodcuct</th>\n",
       "      <th>numero_item</th>\n",
       "      <th>precio</th>\n",
       "      <th>status</th>\n",
       "      <th>supplier_name</th>\n",
       "      <th>order_id</th>\n",
       "    </tr>\n",
       "  </thead>\n",
       "  <tbody>\n",
       "    <tr>\n",
       "      <th>0</th>\n",
       "      <td>Brand#25</td>\n",
       "      <td>33</td>\n",
       "      <td>DN,o6cL5oexUKeoePA49RnNBkUciRlYNO</td>\n",
       "      <td>130837</td>\n",
       "      <td>Customer#000130837</td>\n",
       "      <td>UNITED STATES</td>\n",
       "      <td>34-387-803-5958</td>\n",
       "      <td>AMERICA</td>\n",
       "      <td>0.08</td>\n",
       "      <td>1998-08-15</td>\n",
       "      <td>1998-07-23</td>\n",
       "      <td>N</td>\n",
       "      <td>0.08</td>\n",
       "      <td>azure misty papaya magenta olive</td>\n",
       "      <td>1</td>\n",
       "      <td>38716.26</td>\n",
       "      <td>O</td>\n",
       "      <td>Supplier#000008231</td>\n",
       "      <td>3004327</td>\n",
       "    </tr>\n",
       "    <tr>\n",
       "      <th>1</th>\n",
       "      <td>Brand#33</td>\n",
       "      <td>4</td>\n",
       "      <td>DN,o6cL5oexUKeoePA49RnNBkUciRlYNO</td>\n",
       "      <td>130837</td>\n",
       "      <td>Customer#000130837</td>\n",
       "      <td>UNITED STATES</td>\n",
       "      <td>34-387-803-5958</td>\n",
       "      <td>AMERICA</td>\n",
       "      <td>0.00</td>\n",
       "      <td>1998-05-23</td>\n",
       "      <td>1998-05-22</td>\n",
       "      <td>N</td>\n",
       "      <td>0.02</td>\n",
       "      <td>lemon blue medium goldenrod dim</td>\n",
       "      <td>2</td>\n",
       "      <td>6798.96</td>\n",
       "      <td>O</td>\n",
       "      <td>Supplier#000002261</td>\n",
       "      <td>3004327</td>\n",
       "    </tr>\n",
       "    <tr>\n",
       "      <th>2</th>\n",
       "      <td>Brand#33</td>\n",
       "      <td>35</td>\n",
       "      <td>DN,o6cL5oexUKeoePA49RnNBkUciRlYNO</td>\n",
       "      <td>130837</td>\n",
       "      <td>Customer#000130837</td>\n",
       "      <td>UNITED STATES</td>\n",
       "      <td>34-387-803-5958</td>\n",
       "      <td>AMERICA</td>\n",
       "      <td>0.03</td>\n",
       "      <td>1998-07-21</td>\n",
       "      <td>1998-06-29</td>\n",
       "      <td>N</td>\n",
       "      <td>0.06</td>\n",
       "      <td>orchid drab peach lace lawn</td>\n",
       "      <td>3</td>\n",
       "      <td>69579.65</td>\n",
       "      <td>O</td>\n",
       "      <td>Supplier#000006016</td>\n",
       "      <td>3004327</td>\n",
       "    </tr>\n",
       "    <tr>\n",
       "      <th>3</th>\n",
       "      <td>Brand#41</td>\n",
       "      <td>17</td>\n",
       "      <td>ze9zPRMacUEaAyF</td>\n",
       "      <td>127691</td>\n",
       "      <td>Customer#000127691</td>\n",
       "      <td>UNITED KINGDOM</td>\n",
       "      <td>33-453-155-9463</td>\n",
       "      <td>EUROPE</td>\n",
       "      <td>0.07</td>\n",
       "      <td>1998-08-07</td>\n",
       "      <td>1998-08-03</td>\n",
       "      <td>N</td>\n",
       "      <td>0.07</td>\n",
       "      <td>saddle black misty drab mint</td>\n",
       "      <td>1</td>\n",
       "      <td>26869.52</td>\n",
       "      <td>O</td>\n",
       "      <td>Supplier#000001587</td>\n",
       "      <td>3005729</td>\n",
       "    </tr>\n",
       "    <tr>\n",
       "      <th>4</th>\n",
       "      <td>Brand#42</td>\n",
       "      <td>45</td>\n",
       "      <td>ze9zPRMacUEaAyF</td>\n",
       "      <td>127691</td>\n",
       "      <td>Customer#000127691</td>\n",
       "      <td>UNITED KINGDOM</td>\n",
       "      <td>33-453-155-9463</td>\n",
       "      <td>EUROPE</td>\n",
       "      <td>0.09</td>\n",
       "      <td>1998-09-29</td>\n",
       "      <td>1998-09-08</td>\n",
       "      <td>N</td>\n",
       "      <td>0.00</td>\n",
       "      <td>turquoise forest sienna red rose</td>\n",
       "      <td>2</td>\n",
       "      <td>54189.90</td>\n",
       "      <td>O</td>\n",
       "      <td>Supplier#000002733</td>\n",
       "      <td>3005729</td>\n",
       "    </tr>\n",
       "  </tbody>\n",
       "</table>\n",
       "</div>"
      ],
      "text/plain": [
       "  brand_product  cantidad                   customer_address  customer_id       customer_name customer_nation   customer_phone customer_region  descuento fecha_entrega fecha_envio flag_devolución  impuesto                     name_prodcuct  numero_item    precio status       supplier_name order_id\n",
       "0      Brand#25        33  DN,o6cL5oexUKeoePA49RnNBkUciRlYNO       130837  Customer#000130837   UNITED STATES  34-387-803-5958         AMERICA       0.08    1998-08-15  1998-07-23               N      0.08  azure misty papaya magenta olive            1  38716.26      O  Supplier#000008231  3004327\n",
       "1      Brand#33         4  DN,o6cL5oexUKeoePA49RnNBkUciRlYNO       130837  Customer#000130837   UNITED STATES  34-387-803-5958         AMERICA       0.00    1998-05-23  1998-05-22               N      0.02   lemon blue medium goldenrod dim            2   6798.96      O  Supplier#000002261  3004327\n",
       "2      Brand#33        35  DN,o6cL5oexUKeoePA49RnNBkUciRlYNO       130837  Customer#000130837   UNITED STATES  34-387-803-5958         AMERICA       0.03    1998-07-21  1998-06-29               N      0.06       orchid drab peach lace lawn            3  69579.65      O  Supplier#000006016  3004327\n",
       "3      Brand#41        17                    ze9zPRMacUEaAyF       127691  Customer#000127691  UNITED KINGDOM  33-453-155-9463          EUROPE       0.07    1998-08-07  1998-08-03               N      0.07      saddle black misty drab mint            1  26869.52      O  Supplier#000001587  3005729\n",
       "4      Brand#42        45                    ze9zPRMacUEaAyF       127691  Customer#000127691  UNITED KINGDOM  33-453-155-9463          EUROPE       0.09    1998-09-29  1998-09-08               N      0.00  turquoise forest sienna red rose            2  54189.90      O  Supplier#000002733  3005729"
      ]
     },
     "metadata": {},
     "output_type": "display_data"
    }
   ],
   "source": [
    "df = pd.read_json('../data/raw/data_0_0_0.json', lines=True, orient='records')\n",
    "orders_df = pd.json_normalize(df['order'], max_level=0)\n",
    "\n",
    "details_df = pd.json_normalize(df['order'], 'details', ['order_id'])\n",
    "\n",
    "\n",
    "\n",
    "display(details_df.head())"
   ]
  },
  {
   "cell_type": "code",
   "execution_count": 52,
   "id": "ee39e7ef-b394-4635-a47d-a82fa5175601",
   "metadata": {},
   "outputs": [
    {
     "name": "stdout",
     "output_type": "stream",
     "text": [
      "Index(['details', 'order_date', 'order_id', 'order_status', 'order_total'], dtype='object')\n"
     ]
    }
   ],
   "source": [
    "print(orders_df.columns)\n"
   ]
  },
  {
   "cell_type": "code",
   "execution_count": 25,
   "id": "4355617d-4894-458c-9909-49727a953cb1",
   "metadata": {},
   "outputs": [
    {
     "name": "stdout",
     "output_type": "stream",
     "text": [
      "      brand_product                       name_prodcuct    precio status     id\n",
      "67170      Brand#11     royal honeydew wheat slate navy  30373.59      O  66950\n",
      "67171      Brand#54   firebrick red salmon tomato ivory  23676.66      O  66951\n",
      "67172      Brand#42  pink medium turquoise misty salmon  29902.34      O  66952\n",
      "67173      Brand#23  thistle pink yellow cornsilk ghost  22442.42      O  66953\n",
      "67174      Brand#24        tan beige moccasin drab cyan  16783.20      O  66954\n"
     ]
    }
   ],
   "source": [
    "# Extraer datos relevantes para Product\n",
    "product_df = pd.json_normalize(df['order'], 'details', ['order_id'], sep='_')\n",
    "\n",
    "# Seleccionar columnas necesarias\n",
    "product_df = product_df[['brand_product', 'name_prodcuct', 'precio', 'status']]\n",
    "\n",
    "# Eliminar duplicados para obtener productos únicos\n",
    "product_df = product_df.drop_duplicates(subset=['brand_product', 'name_prodcuct', 'precio', 'status'])\n",
    "\n",
    "# Generar IDs autoincrementales\n",
    "product_df['id'] = pd.RangeIndex(start=1, stop=len(product_df) + 1)\n",
    "\n",
    "print(product_df.tail())\n"
   ]
  },
  {
   "cell_type": "code",
   "execution_count": 27,
   "id": "a6865f8c-b0fd-4fb1-9533-e13c258d75b8",
   "metadata": {},
   "outputs": [
    {
     "name": "stdout",
     "output_type": "stream",
     "text": [
      "                           customer_address customer_region customer_nation  id\n",
      "0         DN,o6cL5oexUKeoePA49RnNBkUciRlYNO         AMERICA   UNITED STATES   1\n",
      "3                           ze9zPRMacUEaAyF          EUROPE  UNITED KINGDOM   2\n",
      "10  FmXvUhyxyOw1GkK,kkJt5BhsJK3 g3JGcINMxHt          EUROPE         ROMANIA   3\n",
      "16                             nB IT5jlB72f          EUROPE          FRANCE   4\n",
      "22            NMOORDJlyvu44TNn7MPw4E2e1EoGn            ASIA           CHINA   5\n"
     ]
    }
   ],
   "source": [
    "# Extraer datos relevantes para Customer_address\n",
    "customer_address_df = pd.json_normalize(df['order'], 'details', ['order_id'], sep='_')\n",
    "\n",
    "# Seleccionar columnas necesarias y eliminar duplicados\n",
    "customer_address_df = customer_address_df[['customer_address', 'customer_region', 'customer_nation']].drop_duplicates()\n",
    "\n",
    "# Generar IDs autoincrementales\n",
    "customer_address_df['id'] = pd.RangeIndex(start=1, stop=len(customer_address_df) + 1)\n",
    "\n",
    "print(customer_address_df.head())\n"
   ]
  },
  {
   "cell_type": "code",
   "execution_count": 49,
   "id": "bb0ccb86-5176-4b01-aa88-0282dec0b11d",
   "metadata": {},
   "outputs": [
    {
     "name": "stdout",
     "output_type": "stream",
     "text": [
      "              name  id\n",
      "0    UNITED STATES   1\n",
      "1   UNITED KINGDOM   2\n",
      "2          ROMANIA   3\n",
      "3           FRANCE   4\n",
      "4            CHINA   5\n",
      "5        INDONESIA   6\n",
      "6           CANADA   7\n",
      "7             IRAN   8\n",
      "8         ETHIOPIA   9\n",
      "9          ALGERIA  10\n",
      "10          JORDAN  11\n",
      "11      MOZAMBIQUE  12\n",
      "12         VIETNAM  13\n",
      "13           INDIA  14\n",
      "14           JAPAN  15\n",
      "15          RUSSIA  16\n",
      "16          BRAZIL  17\n",
      "17           EGYPT  18\n",
      "18            IRAQ  19\n",
      "19    SAUDI ARABIA  20\n",
      "20         GERMANY  21\n",
      "21         MOROCCO  22\n",
      "22            PERU  23\n",
      "23           KENYA  24\n",
      "24       ARGENTINA  25\n"
     ]
    }
   ],
   "source": [
    "# Extraer países únicos de customer_nation\n",
    "unique_nations = customer_address_df[['customer_nation']].drop_duplicates().reset_index(drop=True)\n",
    "unique_nations.columns = ['name']  # Asegúrate de que el nombre de la columna coincida con la tabla `country`\n",
    "\n",
    "# Generar IDs autoincrementales\n",
    "unique_nations['id'] = pd.RangeIndex(start=1, stop=len(unique_nations) + 1)\n",
    "\n",
    "# Imprimir para ver el resultado\n",
    "print(unique_nations)\n",
    "\n",
    "# Aquí iría el código para insertar unique_nations en la tabla `country` en la base de datos PostgreSQL\n"
   ]
  },
  {
   "cell_type": "code",
   "execution_count": 50,
   "id": "4690501f-6151-4a56-9c87-410575729664",
   "metadata": {},
   "outputs": [
    {
     "name": "stdout",
     "output_type": "stream",
     "text": [
      "                          customer_address customer_region  country_id  id\n",
      "0        DN,o6cL5oexUKeoePA49RnNBkUciRlYNO         AMERICA           1   1\n",
      "1                          ze9zPRMacUEaAyF          EUROPE           2   2\n",
      "2  FmXvUhyxyOw1GkK,kkJt5BhsJK3 g3JGcINMxHt          EUROPE           3   3\n",
      "3                             nB IT5jlB72f          EUROPE           4   4\n",
      "4            NMOORDJlyvu44TNn7MPw4E2e1EoGn            ASIA           5   5\n"
     ]
    }
   ],
   "source": [
    "# Crear un DataFrame de mapeo para países\n",
    "country_mapping = unique_nations[['name', 'id']]\n",
    "country_mapping.columns = ['customer_nation', 'country_id']\n",
    "\n",
    "# Unir customer_address_df con country_mapping para obtener country_id\n",
    "customer_address_df = pd.merge(customer_address_df, country_mapping, left_on='customer_nation', right_on='customer_nation', how='left')\n",
    "\n",
    "# Seleccionar columnas necesarias y eliminar duplicados\n",
    "customer_address_df = customer_address_df[['customer_address', 'customer_region', 'country_id']].drop_duplicates()\n",
    "\n",
    "# Generar IDs autoincrementales\n",
    "customer_address_df['id'] = pd.RangeIndex(start=1, stop=len(customer_address_df) + 1)\n",
    "\n",
    "# Imprimir para ver el resultado\n",
    "print(customer_address_df.head())\n",
    "\n",
    "# Aquí iría el código para insertar customer_address_df en la tabla `customer_address` en la base de datos PostgreSQL\n"
   ]
  },
  {
   "cell_type": "code",
   "execution_count": 28,
   "id": "b55a4b60-0bce-42d8-ab78-0b7b0506f323",
   "metadata": {},
   "outputs": [
    {
     "name": "stdout",
     "output_type": "stream",
     "text": [
      "        date  month  year  id\n",
      "0 1998-05-09      5  1998   1\n",
      "1 1998-05-14      5  1998   2\n",
      "2 1998-07-15      7  1998   3\n",
      "3 1998-03-05      3  1998   4\n",
      "4 1998-06-23      6  1998   5\n"
     ]
    }
   ],
   "source": [
    "# Extraer fechas únicas\n",
    "time_df = pd.DataFrame({\n",
    "    'date': pd.to_datetime(df['order'].apply(lambda x: x['order_date'])),\n",
    "    'month': pd.to_datetime(df['order'].apply(lambda x: x['order_date'])).dt.month,\n",
    "    'year': pd.to_datetime(df['order'].apply(lambda x: x['order_date'])).dt.year\n",
    "})\n",
    "\n",
    "# Eliminar duplicados\n",
    "time_df = time_df.drop_duplicates()\n",
    "\n",
    "# Generar IDs autoincrementales\n",
    "time_df['id'] = pd.RangeIndex(start=1, stop=len(time_df) + 1)\n",
    "\n",
    "print(time_df.head)\n"
   ]
  },
  {
   "cell_type": "code",
   "execution_count": 29,
   "id": "16c3d61a-3912-4f2a-849e-ab13d49ea207",
   "metadata": {},
   "outputs": [
    {
     "name": "stdout",
     "output_type": "stream",
     "text": [
      "        supplier_name  id\n",
      "0  Supplier#000008231   1\n",
      "1  Supplier#000002261   2\n",
      "2  Supplier#000006016   3\n",
      "3  Supplier#000001587   4\n",
      "4  Supplier#000002733   5\n"
     ]
    }
   ],
   "source": [
    "# Extraer datos relevantes para Supplier\n",
    "supplier_df = pd.json_normalize(df['order'], 'details', ['order_id'], sep='_')\n",
    "\n",
    "# Seleccionar columnas necesarias y eliminar duplicados\n",
    "supplier_df = supplier_df[['supplier_name']].drop_duplicates()\n",
    "\n",
    "# Generar IDs autoincrementales\n",
    "supplier_df['id'] = pd.RangeIndex(start=1, stop=len(supplier_df) + 1)\n",
    "\n",
    "print(supplier_df.head())\n"
   ]
  },
  {
   "cell_type": "code",
   "execution_count": 30,
   "id": "42bc5c24-8277-4966-a1a0-040f8d49ceec",
   "metadata": {},
   "outputs": [
    {
     "name": "stdout",
     "output_type": "stream",
     "text": [
      "Empty DataFrame\n",
      "Columns: [date, country_id, description, temperature, id]\n",
      "Index: []\n"
     ]
    }
   ],
   "source": [
    "# Suponiendo que obtendrás estos datos de una API más adelante\n",
    "weather_df = pd.DataFrame({\n",
    "    'date': pd.to_datetime([]),  # Placeholder\n",
    "    'country_id': [],  # Placeholder\n",
    "    'description': [],  # Placeholder\n",
    "    'temperature': []  # Placeholder\n",
    "})\n",
    "\n",
    "# Generar IDs autoincrementales\n",
    "weather_df['id'] = pd.RangeIndex(start=1, stop=len(weather_df) + 1)\n",
    "\n",
    "print(weather_df)\n"
   ]
  },
  {
   "cell_type": "code",
   "execution_count": 31,
   "id": "2357ab7a-08cf-461b-bd86-cae40bfaeb95",
   "metadata": {},
   "outputs": [
    {
     "name": "stdout",
     "output_type": "stream",
     "text": [
      "Empty DataFrame\n",
      "Columns: [base_currency, target_currency, rate, creation_date, id]\n",
      "Index: []\n"
     ]
    }
   ],
   "source": [
    "# Suponiendo que obtendrás estos datos de una API más adelante\n",
    "currency_conversion_df = pd.DataFrame({\n",
    "    'base_currency': [],  # Placeholder\n",
    "    'target_currency': [],  # Placeholder\n",
    "    'rate': [],  # Placeholder\n",
    "    'creation_date': []  # Placeholder\n",
    "})\n",
    "\n",
    "# Generar IDs autoincrementales\n",
    "currency_conversion_df['id'] = pd.RangeIndex(start=1, stop=len(currency_conversion_df) + 1)\n",
    "\n",
    "print(currency_conversion_df)\n"
   ]
  },
  {
   "cell_type": "code",
   "execution_count": 48,
   "id": "c6ed5487-3ae5-4b09-ac38-51d2a0086ca2",
   "metadata": {},
   "outputs": [
    {
     "name": "stdout",
     "output_type": "stream",
     "text": [
      "  order_id  cantidad  descuento flag_devolución  impuesto  numero_item  supplier_id  id\n",
      "0  3004327        33       0.08               N      0.08            1            1   1\n",
      "1  3004327         4       0.00               N      0.02            2            2   2\n",
      "2  3004327        35       0.03               N      0.06            3            3   3\n",
      "3  3005729        17       0.07               N      0.07            1            4   4\n",
      "4  3005729        45       0.09               N      0.00            2            5   5\n"
     ]
    }
   ],
   "source": [
    "# Extraer datos relevantes para Order_details\n",
    "order_details_df = pd.json_normalize(df['order'], 'details', ['order_id'], sep='_')\n",
    "\n",
    "# Seleccionar columnas necesarias\n",
    "order_details_df = order_details_df[['order_id', 'cantidad', 'descuento', 'flag_devolución', 'impuesto', 'numero_item', 'supplier_name']]\n",
    "\n",
    "# Eliminar duplicados para obtener detalles únicos\n",
    "order_details_df = order_details_df.drop_duplicates()\n",
    "\n",
    "# Mapeo de supplier_name a supplier_id\n",
    "supplier_mapping = supplier_df.set_index('supplier_name')['id'].to_dict()\n",
    "order_details_df['supplier_id'] = order_details_df['supplier_name'].map(supplier_mapping)\n",
    "\n",
    "## Se corrobora que el supplier_name corresponda al supplier_name y luego se borra el supplier_name de la orden_detial:\n",
    "# Crear un DataFrame de mapeo para proveedores\n",
    "# supplier_mapping = supplier_df[['supplier_name', 'id']]\n",
    "# supplier_mapping.columns = ['supplier_name', 'supplier_id']\n",
    "\n",
    "# # Unir order_details_df con supplier_mapping para verificar el mapeo\n",
    "# merged_df = pd.merge(order_details_df[['supplier_name', 'supplier_id']], supplier_mapping, on='supplier_name', how='left', suffixes=('', '_mapped'))\n",
    "\n",
    "# # Verificar si los IDs generados son los correctos\n",
    "# discrepancies = merged_df[merged_df['supplier_id'] != merged_df['supplier_id_mapped']]\n",
    "# print(discrepancies)\n",
    "\n",
    "# Seleccionar las columnas finales para Order_details\n",
    "order_details_df = order_details_df[['order_id', 'cantidad', 'descuento', 'flag_devolución', 'impuesto', 'numero_item', 'supplier_id']]\n",
    "\n",
    "# Generar IDs autoincrementales\n",
    "order_details_df['id'] = pd.RangeIndex(start=1, stop=len(order_details_df) + 1)\n",
    "\n",
    "print(order_details_df.head())\n"
   ]
  },
  {
   "cell_type": "code",
   "execution_count": 47,
   "id": "0d07a2b3-8332-4a82-97b1-2648ae239d48",
   "metadata": {},
   "outputs": [
    {
     "name": "stdout",
     "output_type": "stream",
     "text": [
      "  order_id  cantidad  descuento flag_devolución  impuesto  numero_item  supplier_id  id\n",
      "0  3004327        33       0.08               N      0.08            1            1   1\n",
      "1  3004327         4       0.00               N      0.02            2            2   2\n",
      "2  3004327        35       0.03               N      0.06            3            3   3\n",
      "3  3005729        17       0.07               N      0.07            1            4   4\n",
      "4  3005729        45       0.09               N      0.00            2            5   5\n"
     ]
    }
   ],
   "source": [
    "\n"
   ]
  },
  {
   "cell_type": "code",
   "execution_count": 46,
   "id": "3fa1f0c4-b37f-43d9-b0cc-e973c8dc192b",
   "metadata": {},
   "outputs": [
    {
     "name": "stdout",
     "output_type": "stream",
     "text": [
      "Empty DataFrame\n",
      "Columns: [supplier_name, supplier_id, supplier_id_mapped]\n",
      "Index: []\n"
     ]
    }
   ],
   "source": [
    "\n"
   ]
  },
  {
   "cell_type": "code",
   "execution_count": null,
   "id": "df3cfb38-165f-4ed6-8341-ac3fceee46be",
   "metadata": {},
   "outputs": [],
   "source": []
  }
 ],
 "metadata": {
  "kernelspec": {
   "display_name": "Python 3 (ipykernel)",
   "language": "python",
   "name": "python3"
  },
  "language_info": {
   "codemirror_mode": {
    "name": "ipython",
    "version": 3
   },
   "file_extension": ".py",
   "mimetype": "text/x-python",
   "name": "python",
   "nbconvert_exporter": "python",
   "pygments_lexer": "ipython3",
   "version": "3.11.4"
  }
 },
 "nbformat": 4,
 "nbformat_minor": 5
}
