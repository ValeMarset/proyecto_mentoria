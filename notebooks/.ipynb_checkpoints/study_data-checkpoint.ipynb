{
 "cells": [
  {
   "cell_type": "code",
   "execution_count": 1,
   "id": "2a7e7209-fbc2-46e9-82a7-c84e1bd18bec",
   "metadata": {},
   "outputs": [],
   "source": [
    "import json\n",
    "import pandas as pd"
   ]
  },
  {
   "cell_type": "code",
   "execution_count": 21,
   "id": "0a51ffc9-4f3d-4361-a8e2-b010c3c03f43",
   "metadata": {},
   "outputs": [
    {
     "data": {
      "text/html": [
       "<div>\n",
       "<style scoped>\n",
       "    .dataframe tbody tr th:only-of-type {\n",
       "        vertical-align: middle;\n",
       "    }\n",
       "\n",
       "    .dataframe tbody tr th {\n",
       "        vertical-align: top;\n",
       "    }\n",
       "\n",
       "    .dataframe thead th {\n",
       "        text-align: right;\n",
       "    }\n",
       "</style>\n",
       "<table border=\"1\" class=\"dataframe\">\n",
       "  <thead>\n",
       "    <tr style=\"text-align: right;\">\n",
       "      <th></th>\n",
       "      <th>order</th>\n",
       "    </tr>\n",
       "  </thead>\n",
       "  <tbody>\n",
       "    <tr>\n",
       "      <th>0</th>\n",
       "      <td>{'details': [{'brand_product': 'Brand#25', 'ca...</td>\n",
       "    </tr>\n",
       "    <tr>\n",
       "      <th>1</th>\n",
       "      <td>{'details': [{'brand_product': 'Brand#41', 'ca...</td>\n",
       "    </tr>\n",
       "    <tr>\n",
       "      <th>2</th>\n",
       "      <td>{'details': [{'brand_product': 'Brand#15', 'ca...</td>\n",
       "    </tr>\n",
       "    <tr>\n",
       "      <th>3</th>\n",
       "      <td>{'details': [{'brand_product': 'Brand#42', 'ca...</td>\n",
       "    </tr>\n",
       "    <tr>\n",
       "      <th>4</th>\n",
       "      <td>{'details': [{'brand_product': 'Brand#42', 'ca...</td>\n",
       "    </tr>\n",
       "  </tbody>\n",
       "</table>\n",
       "</div>"
      ],
      "text/plain": [
       "                                               order\n",
       "0  {'details': [{'brand_product': 'Brand#25', 'ca...\n",
       "1  {'details': [{'brand_product': 'Brand#41', 'ca...\n",
       "2  {'details': [{'brand_product': 'Brand#15', 'ca...\n",
       "3  {'details': [{'brand_product': 'Brand#42', 'ca...\n",
       "4  {'details': [{'brand_product': 'Brand#42', 'ca..."
      ]
     },
     "metadata": {},
     "output_type": "display_data"
    }
   ],
   "source": [
    "df = pd.read_json('data_0_0_0.json', lines=True, orient='records')\n",
    "display(df.head())"
   ]
  },
  {
   "cell_type": "code",
   "execution_count": 24,
   "id": "b5342dad-7a06-4929-8e9f-fa73e998d5d7",
   "metadata": {},
   "outputs": [
    {
     "data": {
      "text/plain": [
       "{'details': [{'brand_product': 'Brand#25',\n",
       "   'cantidad': 33,\n",
       "   'customer_address': 'DN,o6cL5oexUKeoePA49RnNBkUciRlYNO',\n",
       "   'customer_id': 130837,\n",
       "   'customer_name': 'Customer#000130837',\n",
       "   'customer_nation': 'UNITED STATES',\n",
       "   'customer_phone': '34-387-803-5958',\n",
       "   'customer_region': 'AMERICA',\n",
       "   'descuento': 0.08,\n",
       "   'fecha_entrega': '1998-08-15',\n",
       "   'fecha_envio': '1998-07-23',\n",
       "   'flag_devolución': 'N',\n",
       "   'impuesto': 0.08,\n",
       "   'name_prodcuct': 'azure misty papaya magenta olive',\n",
       "   'numero_item': 1,\n",
       "   'precio': 38716.26,\n",
       "   'status': 'O',\n",
       "   'supplier_name': 'Supplier#000008231'},\n",
       "  {'brand_product': 'Brand#33',\n",
       "   'cantidad': 4,\n",
       "   'customer_address': 'DN,o6cL5oexUKeoePA49RnNBkUciRlYNO',\n",
       "   'customer_id': 130837,\n",
       "   'customer_name': 'Customer#000130837',\n",
       "   'customer_nation': 'UNITED STATES',\n",
       "   'customer_phone': '34-387-803-5958',\n",
       "   'customer_region': 'AMERICA',\n",
       "   'descuento': 0,\n",
       "   'fecha_entrega': '1998-05-23',\n",
       "   'fecha_envio': '1998-05-22',\n",
       "   'flag_devolución': 'N',\n",
       "   'impuesto': 0.02,\n",
       "   'name_prodcuct': 'lemon blue medium goldenrod dim',\n",
       "   'numero_item': 2,\n",
       "   'precio': 6798.96,\n",
       "   'status': 'O',\n",
       "   'supplier_name': 'Supplier#000002261'},\n",
       "  {'brand_product': 'Brand#33',\n",
       "   'cantidad': 35,\n",
       "   'customer_address': 'DN,o6cL5oexUKeoePA49RnNBkUciRlYNO',\n",
       "   'customer_id': 130837,\n",
       "   'customer_name': 'Customer#000130837',\n",
       "   'customer_nation': 'UNITED STATES',\n",
       "   'customer_phone': '34-387-803-5958',\n",
       "   'customer_region': 'AMERICA',\n",
       "   'descuento': 0.03,\n",
       "   'fecha_entrega': '1998-07-21',\n",
       "   'fecha_envio': '1998-06-29',\n",
       "   'flag_devolución': 'N',\n",
       "   'impuesto': 0.06,\n",
       "   'name_prodcuct': 'orchid drab peach lace lawn',\n",
       "   'numero_item': 3,\n",
       "   'precio': 69579.65,\n",
       "   'status': 'O',\n",
       "   'supplier_name': 'Supplier#000006016'}],\n",
       " 'order_date': '1998-05-09',\n",
       " 'order_id': 3004327,\n",
       " 'order_status': 'O',\n",
       " 'order_total': 116945.18}"
      ]
     },
     "execution_count": 24,
     "metadata": {},
     "output_type": "execute_result"
    }
   ],
   "source": [
    "df['order'][0]"
   ]
  },
  {
   "cell_type": "code",
   "execution_count": null,
   "id": "2333e5e5-7be8-43e0-94e6-d2fc2ca6b967",
   "metadata": {},
   "outputs": [],
   "source": []
  }
 ],
 "metadata": {
  "kernelspec": {
   "display_name": "Python 3 (ipykernel)",
   "language": "python",
   "name": "python3"
  },
  "language_info": {
   "codemirror_mode": {
    "name": "ipython",
    "version": 3
   },
   "file_extension": ".py",
   "mimetype": "text/x-python",
   "name": "python",
   "nbconvert_exporter": "python",
   "pygments_lexer": "ipython3",
   "version": "3.11.4"
  }
 },
 "nbformat": 4,
 "nbformat_minor": 5
}
